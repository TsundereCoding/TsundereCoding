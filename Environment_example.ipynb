{
  "nbformat": 4,
  "nbformat_minor": 0,
  "metadata": {
    "colab": {
      "provenance": [],
      "include_colab_link": true
    },
    "kernelspec": {
      "name": "python3",
      "display_name": "Python 3"
    },
    "language_info": {
      "name": "python"
    }
  },
  "cells": [
    {
      "cell_type": "markdown",
      "metadata": {
        "id": "view-in-github",
        "colab_type": "text"
      },
      "source": [
        "<a href=\"https://colab.research.google.com/github/TsundereCoding/TsundereCoding/blob/main/Environment_example.ipynb\" target=\"_parent\"><img src=\"https://colab.research.google.com/assets/colab-badge.svg\" alt=\"Open In Colab\"/></a>"
      ]
    },
    {
      "cell_type": "code",
      "execution_count": 10,
      "metadata": {
        "id": "MXXTuy_o0sjk"
      },
      "outputs": [],
      "source": [
        "!pip install -q -U kaggle_environments"
      ]
    },
    {
      "cell_type": "code",
      "source": [
        "import numpy as np\n",
        "import pandas as pd\n",
        "import random\n",
        "import datetime\n",
        "from collections import defaultdict\n",
        "\n",
        "import matplotlib.pyplot as plt\n",
        "import seaborn as sns\n",
        "\n",
        "from kaggle_environments import make, evaluate"
      ],
      "metadata": {
        "id": "yz23vWHD0wcj"
      },
      "execution_count": 11,
      "outputs": []
    },
    {
      "cell_type": "markdown",
      "source": [
        "Опишем поведение агента, всегда играющего \"камень\" - это значение 0"
      ],
      "metadata": {
        "id": "0kuo6IOxiRub"
      }
    },
    {
      "cell_type": "code",
      "source": [
        "%%writefile rock_agent.py\n",
        "\n",
        "#Example of the simple agent\n",
        "#0 - rock\n",
        "#1 - paper\n",
        "#2 - scissors\n",
        "def your_agent(observation, configuration):\n",
        "    return 0"
      ],
      "metadata": {
        "id": "bqTqV7B92rJ6",
        "colab": {
          "base_uri": "https://localhost:8080/"
        },
        "outputId": "069063ca-28d6-43dd-9648-9b700ae02686"
      },
      "execution_count": 12,
      "outputs": [
        {
          "output_type": "stream",
          "name": "stdout",
          "text": [
            "Overwriting rock_agent.py\n"
          ]
        }
      ]
    },
    {
      "cell_type": "markdown",
      "source": [
        "Попробуем теперь использовать информацию о прошлых действиях противника. Опишем агента, который производит то же самое действие, что и оппонент на прошлом ходу"
      ],
      "metadata": {
        "id": "et1J5hUGigeh"
      }
    },
    {
      "cell_type": "code",
      "source": [
        "%%writefile copy_opponent.py\n",
        "\n",
        "#Example\n",
        "def copy_opponent(observation, configuration):\n",
        "    #in case we have information about opponent last move\n",
        "    if observation.step > 0:\n",
        "        return observation.lastOpponentAction\n",
        "    #initial step\n",
        "    else:\n",
        "        return random.randrange(0, configuration.signs)"
      ],
      "metadata": {
        "id": "7l6Ttw6qi0jk",
        "colab": {
          "base_uri": "https://localhost:8080/"
        },
        "outputId": "a89f7a5d-a5d4-4122-9e0d-f96ad553b763"
      },
      "execution_count": 13,
      "outputs": [
        {
          "output_type": "stream",
          "name": "stdout",
          "text": [
            "Overwriting copy_opponent.py\n"
          ]
        }
      ]
    },
    {
      "cell_type": "code",
      "source": [
        "%%writefile random_agent.py\n",
        "#Случайный агент выбирает по random [1]\n",
        "def random_agent(observation, configuration):\n",
        "    return random.randint(0, 2)"
      ],
      "metadata": {
        "colab": {
          "base_uri": "https://localhost:8080/"
        },
        "id": "FfeGTXCV8M5j",
        "outputId": "e3ddc946-72e9-47f6-cf04-39649f6a1e82"
      },
      "execution_count": 14,
      "outputs": [
        {
          "output_type": "stream",
          "name": "stdout",
          "text": [
            "Overwriting random_agent.py\n"
          ]
        }
      ]
    },
    {
      "cell_type": "code",
      "source": [
        "%%writefile cycle_agent.py\n",
        "#Агент, который чередует камень, ножницы и бумагу по порядку [2]\n",
        "def cycle_agent(observation, configuration):\n",
        "    return observation.step % 3"
      ],
      "metadata": {
        "colab": {
          "base_uri": "https://localhost:8080/"
        },
        "id": "W2KeFn9i9EgT",
        "outputId": "33db0b69-e8b8-4237-a2ca-79e6589ad5ec"
      },
      "execution_count": 15,
      "outputs": [
        {
          "output_type": "stream",
          "name": "stdout",
          "text": [
            "Overwriting cycle_agent.py\n"
          ]
        }
      ]
    },
    {
      "cell_type": "code",
      "source": [
        "%%writefile copy_agentsc.py\n",
        "#Агент, который повторяет ход противника с предыдущего раунда но начинает с ножниц [3]\n",
        "def copy_agentsc(observation, configuration):\n",
        "    if observation.step == 0:\n",
        "        return 3 # Начинаем с ножниц\n",
        "    return observation.lastOpponentAction"
      ],
      "metadata": {
        "colab": {
          "base_uri": "https://localhost:8080/"
        },
        "id": "dU_SN-Y_9Eyh",
        "outputId": "8bb354c2-2dad-4b5d-ed70-af3a08ef1ecc"
      },
      "execution_count": 16,
      "outputs": [
        {
          "output_type": "stream",
          "name": "stdout",
          "text": [
            "Writing copy_agentsc.py\n"
          ]
        }
      ]
    },
    {
      "cell_type": "code",
      "source": [
        "%%writefile counter_agent.py\n",
        "#Агент, который выбирает то, что победило бы предыдущий ход противника [4]\n",
        "def counter_agent(observation, configuration):\n",
        "    if observation.step == 0:\n",
        "        return 0  # Начинаем с камня\n",
        "    return (observation.lastOpponentAction + 1) % 3"
      ],
      "metadata": {
        "colab": {
          "base_uri": "https://localhost:8080/"
        },
        "id": "64pDzcQ59FDX",
        "outputId": "9b1525ab-b692-461e-fd85-c8ccbf5acebc"
      },
      "execution_count": 17,
      "outputs": [
        {
          "output_type": "stream",
          "name": "stdout",
          "text": [
            "Writing counter_agent.py\n"
          ]
        }
      ]
    },
    {
      "cell_type": "code",
      "source": [
        "%%writefile lose_agent.py\n",
        "#Агент, который всегда выбирает то, что проиграло бы предыдущему ходу противника [5]\n",
        "def lose_agent(observation, configuration):\n",
        "    if observation.step == 0:\n",
        "        return 0  # Начинаем с камня\n",
        "    return (observation.lastOpponentAction + 2) % 3"
      ],
      "metadata": {
        "colab": {
          "base_uri": "https://localhost:8080/"
        },
        "id": "1qI_oCuQ9FUH",
        "outputId": "9358ad20-2804-4f87-9cc4-e0974ebcb049"
      },
      "execution_count": 18,
      "outputs": [
        {
          "output_type": "stream",
          "name": "stdout",
          "text": [
            "Writing lose_agent.py\n"
          ]
        }
      ]
    },
    {
      "cell_type": "code",
      "source": [
        "%%writefile love_paper_agent.py\n",
        "#Агент, который выбирает бумагу чаще других (любитель денег) [6]\n",
        "def love_paper_agent(observation, configuration):\n",
        "    return 2 if random.random() < 0.7 else random.randint(0, 1)"
      ],
      "metadata": {
        "colab": {
          "base_uri": "https://localhost:8080/"
        },
        "id": "FHB_hph-9Frw",
        "outputId": "b50a68de-9338-4613-8678-c9a586ec9df7"
      },
      "execution_count": 19,
      "outputs": [
        {
          "output_type": "stream",
          "name": "stdout",
          "text": [
            "Writing love_paper_agent.py\n"
          ]
        }
      ]
    },
    {
      "cell_type": "code",
      "source": [
        "%%writefile scared_rock_agent.py\n",
        "#Агент, который выбирает случайные ходы, но избегает камня [7]\n",
        "def scared_rock_agent(observation, configuration):\n",
        "    return random.choice([1, 2])  # Только ножницы или бумага"
      ],
      "metadata": {
        "colab": {
          "base_uri": "https://localhost:8080/"
        },
        "id": "3w1scl8l9F7C",
        "outputId": "d5fbbead-d089-4f2f-cab1-0ab7e327a46a"
      },
      "execution_count": 20,
      "outputs": [
        {
          "output_type": "stream",
          "name": "stdout",
          "text": [
            "Writing scared_rock_agent.py\n"
          ]
        }
      ]
    },
    {
      "cell_type": "code",
      "source": [
        "%%writefile all_in_agent.py\n",
        "#Агент, который выбирает самый часто проигрывающий ход из прошлых игр [8]\n",
        "def all_in_agent(observation, configuration):\n",
        "    if observation.step == 0:\n",
        "        return random.randint(0, 2)\n",
        "    moves = [0, 0, 0]\n",
        "    for i in range(observation.step):\n",
        "        moves[observation['actionHistory'][i]] += 1\n",
        "    return moves.index(min(moves))"
      ],
      "metadata": {
        "colab": {
          "base_uri": "https://localhost:8080/"
        },
        "id": "7VON9kGn9GQJ",
        "outputId": "00d299df-205d-4ef5-9e55-4ffe95e79a24"
      },
      "execution_count": 21,
      "outputs": [
        {
          "output_type": "stream",
          "name": "stdout",
          "text": [
            "Writing all_in_agent.py\n"
          ]
        }
      ]
    },
    {
      "cell_type": "code",
      "source": [
        "%%writefile lao_tzu_agent.py\n",
        "#Агент, меняет стратегию каждый 3ий ход [9]\n",
        "def lao_tzu_agent(observation, configuration):\n",
        "    if observation.step % 10 < 3:\n",
        "        return (observation.step % 3)\n",
        "    else:\n",
        "        return random.randint(0, 2)"
      ],
      "metadata": {
        "colab": {
          "base_uri": "https://localhost:8080/"
        },
        "id": "AWitl45TALem",
        "outputId": "e695dddd-6537-4896-ded5-7d64e9101cdb"
      },
      "execution_count": 22,
      "outputs": [
        {
          "output_type": "stream",
          "name": "stdout",
          "text": [
            "Writing lao_tzu_agent.py\n"
          ]
        }
      ]
    },
    {
      "cell_type": "code",
      "source": [
        "%%writefile time_agent.py\n",
        "#Агент использует текущее время для выбора хода [10]\n",
        "\n",
        "def time_agent(observation, configuration):\n",
        "    current_time = datetime.datetime.now()\n",
        "    if current_time.minute % 5 == 0:\n",
        "        return 1  # если минута делится на 5 — выбирает ножницы\n",
        "    elif current_time.minute % 2 == 0:\n",
        "        return 0  # если время четное выбирает камень\n",
        "    else:\n",
        "        return 2  # если нечетное — бумагу"
      ],
      "metadata": {
        "colab": {
          "base_uri": "https://localhost:8080/"
        },
        "id": "m3VoGMvfCgmd",
        "outputId": "434b4d70-23f1-4827-a7a7-6716f2f1fcf1"
      },
      "execution_count": 23,
      "outputs": [
        {
          "output_type": "stream",
          "name": "stdout",
          "text": [
            "Writing time_agent.py\n"
          ]
        }
      ]
    },
    {
      "cell_type": "code",
      "source": [
        "%%writefile birthday_agent.py\n",
        "#Агент использует цифры дня рождения для выбора хода [11]\n",
        "BIRTHDAY = \"23011993\"\n",
        "\n",
        "def birthday_agent(observation, configuration):\n",
        "    step = observation.step\n",
        "    digit = int(BIRTHDAY[step % len(BIRTHDAY)])\n",
        "    if digit % 3 == 0:\n",
        "        return 0  # Камень\n",
        "    elif digit % 3 == 1:\n",
        "        return 1  # Ножницы\n",
        "    else:\n",
        "        return 2  # Бумага"
      ],
      "metadata": {
        "colab": {
          "base_uri": "https://localhost:8080/"
        },
        "id": "6bU-Z73KChCe",
        "outputId": "fa786ede-bc21-4fd4-e403-2803e467339b"
      },
      "execution_count": 24,
      "outputs": [
        {
          "output_type": "stream",
          "name": "stdout",
          "text": [
            "Writing birthday_agent.py\n"
          ]
        }
      ]
    },
    {
      "cell_type": "code",
      "source": [
        "%%writefile italian_agent.py\n",
        "#Агент использующий числа Фибоначчи для выбора хода [12]\n",
        "def fibonacci(self,n):\n",
        "    if n == 0:\n",
        "        return 0\n",
        "    elif n == 1:\n",
        "        return 1\n",
        "    else:\n",
        "        a, b = 0, 1\n",
        "        for _ in range(2, n + 1):\n",
        "            a, b = b, a + b\n",
        "        return b\n",
        "\n",
        "def italian_agent(self,observation, configuration):\n",
        "    step = observation.step\n",
        "    # Получаем n-ое число Фибоначчи\n",
        "    fib_number = fibonacci(step % 10)  # Ограничиваем длину для предотвращения больших чисел\n",
        "\n",
        "    # Используем цифры числа Фибоначчи для выбора хода:  мы берем остаток от деления этого числа на 3, чтобы выбрать один из трех ходов\n",
        "    if fib_number % 3 == 0:\n",
        "        return 0  # Камень\n",
        "    elif fib_number % 3 == 1:\n",
        "        return 1  # Ножницы\n",
        "    else:\n",
        "        return 2  # Бумага"
      ],
      "metadata": {
        "colab": {
          "base_uri": "https://localhost:8080/"
        },
        "id": "dYWeXvKjChT6",
        "outputId": "00c7ac3c-ad44-42f0-87de-a50af6012aae"
      },
      "execution_count": 25,
      "outputs": [
        {
          "output_type": "stream",
          "name": "stdout",
          "text": [
            "Writing italian_agent.py\n"
          ]
        }
      ]
    },
    {
      "cell_type": "markdown",
      "source": [
        "Агенты с элементами машинного обучения в них я не уверен совсем."
      ],
      "metadata": {
        "id": "WMBezz7eBXjL"
      }
    },
    {
      "cell_type": "code",
      "source": [
        "%%writefile q_learning_agent.py\n",
        "\n",
        "#Агент использует стратегию Q-learning для выбора оптимальных ходов на основе прошлых данных. [13]\n",
        "\n",
        "q_table = np.zeros((3, 3))  # Инициализация Q-таблицы\n",
        "\n",
        "def q_learning_agent(observation, configuration):\n",
        "    global q_table\n",
        "    if observation.step == 0:\n",
        "        return random.randint(0, 2)  # Начинаем с случайного хода как обычно\n",
        "\n",
        "    opponent_move = observation.lastOpponentAction\n",
        "    my_move = random.randint(0, 2)\n",
        "\n",
        "    # Обновляем таблицу на основе предыдущего результата\n",
        "    reward = 1 if (my_move - opponent_move) % 3 == 1 else -1\n",
        "    q_table[my_move, opponent_move] += 0.1 * (reward - q_table[my_move, opponent_move])\n",
        "\n",
        "    # Выбираем действие с максимальным значением Q\n",
        "    return np.argmax(q_table[:, opponent_move])"
      ],
      "metadata": {
        "colab": {
          "base_uri": "https://localhost:8080/"
        },
        "id": "RFw7H_aIAL92",
        "outputId": "d76729f5-65fa-4c95-cc4d-bb6090313ee9"
      },
      "execution_count": 26,
      "outputs": [
        {
          "output_type": "stream",
          "name": "stdout",
          "text": [
            "Writing q_learning_agent.py\n"
          ]
        }
      ]
    },
    {
      "cell_type": "markdown",
      "source": [
        "#15 agents to evaluate!!! дает ошибку, не совсем понял как это сдавать но КОЛАБ предложил вариант ниже"
      ],
      "metadata": {
        "id": "4XCeiUbwNqg9"
      }
    },
    {
      "cell_type": "markdown",
      "source": [
        "\n",
        "\n",
        "```\n",
        "evaluate(\n",
        "    \"rps\", #environment to use - no need to change\n",
        "    [\"rock_agent.py\", \"copy_opponent.py\",\"random_agent.py\",\"cycle_agent.py\",\"copy_agentsc.py\",\"counter_agent.py\",\n",
        "     \"lose_agent.py\",\"love_paper_agent.py\",\"scared_rock_agent.py\",\"all_in_agent.py\",\"lao_tzu_agent.py\",\"time_agent.py\",\n",
        "     \"birthday_agent.py\",\"italian_agent.py\",\"q_learning_agent.py\"],\n",
        "    configuration={\"episodeSteps\": 100} #number of episodes\n",
        ")```\n",
        "\n"
      ],
      "metadata": {
        "id": "kF2yUxHBN8or"
      }
    },
    {
      "cell_type": "code",
      "source": [
        "import itertools\n",
        "\n",
        "# List of agent scripts\n",
        "agents = [\"rock_agent.py\", \"copy_opponent.py\", \"random_agent.py\", \"cycle_agent.py\", \"copy_agentsc.py\", \"counter_agent.py\",\n",
        "          \"lose_agent.py\", \"love_paper_agent.py\", \"scared_rock_agent.py\", \"all_in_agent.py\", \"lao_tzu_agent.py\", \"time_agent.py\",\n",
        "          \"birthday_agent.py\", \"italian_agent.py\", \"q_learning_agent.py\"]\n",
        "\n",
        "# Dictionary to store wins for each agent\n",
        "win_count = {agent: 0 for agent in agents}\n",
        "\n",
        "# Iterate through all pairs of agents\n",
        "for agent1, agent2 in itertools.combinations(agents, 2):\n",
        "    print(f\"Evaluating {agent1} vs {agent2}\")\n",
        "    # Evaluate match between agent1 and agent2\n",
        "    result = evaluate(\n",
        "        \"rps\",\n",
        "        [agent1, agent2],\n",
        "        configuration={\"episodeSteps\": 100}\n",
        "    )\n",
        "\n",
        "    # Process the results\n",
        "    total_reward_1 = sum([r[0] for r in result if r[0] is not None])  # Total score for agent1, handling None\n",
        "    total_reward_2 = sum([r[1] if r[1] is not None else 0 for r in result])  # Total score for agent2, handling None\n",
        "\n",
        "    # Determine the winner\n",
        "    if total_reward_1 > total_reward_2:\n",
        "        win_count[agent1] += 1\n",
        "    elif total_reward_2 > total_reward_1:\n",
        "        win_count[agent2] += 1\n",
        "\n",
        "# Find the agent with the most wins\n",
        "most_wins = max(win_count.values())\n",
        "top_agents = [agent for agent, wins in win_count.items() if wins == most_wins]\n",
        "\n",
        "# Display the results\n",
        "print(\"\\n--- Results ---\")\n",
        "for agent, wins in win_count.items():\n",
        "    print(f\"{agent}: {wins} wins\")\n",
        "\n",
        "print(\"\\nTop Agent(s) with the most wins:\")\n",
        "for agent in top_agents:\n",
        "    print(f\"{agent}: {most_wins} wins\")"
      ],
      "metadata": {
        "colab": {
          "base_uri": "https://localhost:8080/"
        },
        "id": "ipV9odydLp15",
        "outputId": "9759ae26-5800-48f6-ccd6-727b49a40321"
      },
      "execution_count": 43,
      "outputs": [
        {
          "output_type": "stream",
          "name": "stdout",
          "text": [
            "Evaluating rock_agent.py vs copy_opponent.py\n",
            "Evaluating rock_agent.py vs random_agent.py\n",
            "Evaluating rock_agent.py vs cycle_agent.py\n",
            "Evaluating rock_agent.py vs copy_agentsc.py\n",
            "Evaluating rock_agent.py vs counter_agent.py\n",
            "Evaluating rock_agent.py vs lose_agent.py\n",
            "Evaluating rock_agent.py vs love_paper_agent.py\n",
            "Evaluating rock_agent.py vs scared_rock_agent.py\n",
            "Evaluating rock_agent.py vs all_in_agent.py\n",
            "Evaluating rock_agent.py vs lao_tzu_agent.py\n",
            "Evaluating rock_agent.py vs time_agent.py\n",
            "Evaluating rock_agent.py vs birthday_agent.py\n",
            "Evaluating rock_agent.py vs italian_agent.py\n",
            "Evaluating rock_agent.py vs q_learning_agent.py\n",
            "Evaluating copy_opponent.py vs random_agent.py\n",
            "Evaluating copy_opponent.py vs cycle_agent.py\n",
            "Evaluating copy_opponent.py vs copy_agentsc.py\n",
            "Evaluating copy_opponent.py vs counter_agent.py\n",
            "Evaluating copy_opponent.py vs lose_agent.py\n",
            "Evaluating copy_opponent.py vs love_paper_agent.py\n",
            "Evaluating copy_opponent.py vs scared_rock_agent.py\n",
            "Evaluating copy_opponent.py vs all_in_agent.py\n",
            "Evaluating copy_opponent.py vs lao_tzu_agent.py\n",
            "Evaluating copy_opponent.py vs time_agent.py\n",
            "Evaluating copy_opponent.py vs birthday_agent.py\n",
            "Evaluating copy_opponent.py vs italian_agent.py\n",
            "Evaluating copy_opponent.py vs q_learning_agent.py\n",
            "Evaluating random_agent.py vs cycle_agent.py\n",
            "Evaluating random_agent.py vs copy_agentsc.py\n",
            "Evaluating random_agent.py vs counter_agent.py\n",
            "Evaluating random_agent.py vs lose_agent.py\n",
            "Evaluating random_agent.py vs love_paper_agent.py\n",
            "Evaluating random_agent.py vs scared_rock_agent.py\n",
            "Evaluating random_agent.py vs all_in_agent.py\n",
            "Evaluating random_agent.py vs lao_tzu_agent.py\n",
            "Evaluating random_agent.py vs time_agent.py\n",
            "Evaluating random_agent.py vs birthday_agent.py\n",
            "Evaluating random_agent.py vs italian_agent.py\n",
            "Evaluating random_agent.py vs q_learning_agent.py\n",
            "Evaluating cycle_agent.py vs copy_agentsc.py\n",
            "Evaluating cycle_agent.py vs counter_agent.py\n",
            "Evaluating cycle_agent.py vs lose_agent.py\n",
            "Evaluating cycle_agent.py vs love_paper_agent.py\n",
            "Evaluating cycle_agent.py vs scared_rock_agent.py\n",
            "Evaluating cycle_agent.py vs all_in_agent.py\n",
            "Evaluating cycle_agent.py vs lao_tzu_agent.py\n",
            "Evaluating cycle_agent.py vs time_agent.py\n",
            "Evaluating cycle_agent.py vs birthday_agent.py\n",
            "Evaluating cycle_agent.py vs italian_agent.py\n",
            "Evaluating cycle_agent.py vs q_learning_agent.py\n",
            "Evaluating copy_agentsc.py vs counter_agent.py\n",
            "Evaluating copy_agentsc.py vs lose_agent.py\n",
            "Evaluating copy_agentsc.py vs love_paper_agent.py\n",
            "Evaluating copy_agentsc.py vs scared_rock_agent.py\n",
            "Evaluating copy_agentsc.py vs all_in_agent.py\n",
            "Evaluating copy_agentsc.py vs lao_tzu_agent.py\n",
            "Evaluating copy_agentsc.py vs time_agent.py\n",
            "Evaluating copy_agentsc.py vs birthday_agent.py\n",
            "Evaluating copy_agentsc.py vs italian_agent.py\n",
            "Evaluating copy_agentsc.py vs q_learning_agent.py\n",
            "Evaluating counter_agent.py vs lose_agent.py\n",
            "Evaluating counter_agent.py vs love_paper_agent.py\n",
            "Evaluating counter_agent.py vs scared_rock_agent.py\n",
            "Evaluating counter_agent.py vs all_in_agent.py\n",
            "Evaluating counter_agent.py vs lao_tzu_agent.py\n",
            "Evaluating counter_agent.py vs time_agent.py\n",
            "Evaluating counter_agent.py vs birthday_agent.py\n",
            "Evaluating counter_agent.py vs italian_agent.py\n",
            "Evaluating counter_agent.py vs q_learning_agent.py\n",
            "Evaluating lose_agent.py vs love_paper_agent.py\n",
            "Evaluating lose_agent.py vs scared_rock_agent.py\n",
            "Evaluating lose_agent.py vs all_in_agent.py\n",
            "Evaluating lose_agent.py vs lao_tzu_agent.py\n",
            "Evaluating lose_agent.py vs time_agent.py\n",
            "Evaluating lose_agent.py vs birthday_agent.py\n",
            "Evaluating lose_agent.py vs italian_agent.py\n",
            "Evaluating lose_agent.py vs q_learning_agent.py\n",
            "Evaluating love_paper_agent.py vs scared_rock_agent.py\n",
            "Evaluating love_paper_agent.py vs all_in_agent.py\n",
            "Evaluating love_paper_agent.py vs lao_tzu_agent.py\n",
            "Evaluating love_paper_agent.py vs time_agent.py\n",
            "Evaluating love_paper_agent.py vs birthday_agent.py\n",
            "Evaluating love_paper_agent.py vs italian_agent.py\n",
            "Evaluating love_paper_agent.py vs q_learning_agent.py\n",
            "Evaluating scared_rock_agent.py vs all_in_agent.py\n",
            "Evaluating scared_rock_agent.py vs lao_tzu_agent.py\n",
            "Evaluating scared_rock_agent.py vs time_agent.py\n",
            "Evaluating scared_rock_agent.py vs birthday_agent.py\n",
            "Evaluating scared_rock_agent.py vs italian_agent.py\n",
            "Evaluating scared_rock_agent.py vs q_learning_agent.py\n",
            "Evaluating all_in_agent.py vs lao_tzu_agent.py\n",
            "Evaluating all_in_agent.py vs time_agent.py\n",
            "Evaluating all_in_agent.py vs birthday_agent.py\n",
            "Evaluating all_in_agent.py vs italian_agent.py\n",
            "Evaluating all_in_agent.py vs q_learning_agent.py\n",
            "Evaluating lao_tzu_agent.py vs time_agent.py\n",
            "Evaluating lao_tzu_agent.py vs birthday_agent.py\n",
            "Evaluating lao_tzu_agent.py vs italian_agent.py\n",
            "Evaluating lao_tzu_agent.py vs q_learning_agent.py\n",
            "Evaluating time_agent.py vs birthday_agent.py\n",
            "Evaluating time_agent.py vs italian_agent.py\n",
            "Evaluating time_agent.py vs q_learning_agent.py\n",
            "Evaluating birthday_agent.py vs italian_agent.py\n",
            "Evaluating birthday_agent.py vs q_learning_agent.py\n",
            "Evaluating italian_agent.py vs q_learning_agent.py\n",
            "\n",
            "--- Results ---\n",
            "rock_agent.py: 11 wins\n",
            "copy_opponent.py: 0 wins\n",
            "random_agent.py: 0 wins\n",
            "cycle_agent.py: 10 wins\n",
            "copy_agentsc.py: 0 wins\n",
            "counter_agent.py: 12 wins\n",
            "lose_agent.py: 12 wins\n",
            "love_paper_agent.py: 0 wins\n",
            "scared_rock_agent.py: 0 wins\n",
            "all_in_agent.py: 0 wins\n",
            "lao_tzu_agent.py: 9 wins\n",
            "time_agent.py: 0 wins\n",
            "birthday_agent.py: 11 wins\n",
            "italian_agent.py: 0 wins\n",
            "q_learning_agent.py: 0 wins\n",
            "\n",
            "Top Agent(s) with the most wins:\n",
            "counter_agent.py: 12 wins\n",
            "lose_agent.py: 12 wins\n"
          ]
        }
      ]
    }
  ]
}